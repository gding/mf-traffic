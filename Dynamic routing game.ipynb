{
 "cells": [
  {
   "cell_type": "code",
   "execution_count": 1,
   "metadata": {},
   "outputs": [],
   "source": [
    "import numpy as np\n",
    "import matplotlib.pyplot as plt"
   ]
  },
  {
   "cell_type": "markdown",
   "metadata": {},
   "source": [
    "### To do:\n",
    "- add marginal cost in the greedy controller\n",
    "- Change the functions to never call global variable if possible\n",
    "- plot instaneous path ratio\n",
    "- Try with a different network\n",
    "- Implement two player game\n",
    "\n",
    "Later:\n",
    "- Show expectation and standard deviation for Monte Carlo\n",
    "- use scipy csc for the adjencency graph\n",
    "- Implement cars with probabilities\n",
    "- Try on Fremont network\n",
    "- Do optimal control\n"
   ]
  },
  {
   "cell_type": "markdown",
   "metadata": {},
   "source": [
    "# 1. Defining simulation inside network class"
   ]
  },
  {
   "cell_type": "markdown",
   "metadata": {},
   "source": [
    "## Defining the class network that enables to perform some simulations"
   ]
  },
  {
   "cell_type": "code",
   "execution_count": 2,
   "metadata": {},
   "outputs": [],
   "source": [
    "class network:\n",
    "    def __init__(self, graph_dict):\n",
    "        \"\"\"\n",
    "        Creating the network from dictionary\n",
    "        \"\"\"\n",
    "        def create_connections(g):\n",
    "            connections = np.zeros((1,2))\n",
    "            for i in self.graph.keys():\n",
    "                for j in self.graph[i][\"connection\"]:\n",
    "                    connections = np.append(connections, [[i, j],], axis=0)\n",
    "            connections = connections[1:]\n",
    "            return connections\n",
    "        \n",
    "        def create_adj_line_graph(array):\n",
    "            nb_links = array.shape[0]\n",
    "            adj_matrix = np.zeros((nb_links,nb_links))\n",
    "            for k in range(nb_links):\n",
    "                adj_matrix[k][np.argwhere(array[:,0]==array[k][1])] = 1\n",
    "            return adj_matrix\n",
    "        \n",
    "        # This dictionary is the graph\n",
    "        self.graph = graph_dict\n",
    "        self.connections = create_connections(self.graph)\n",
    "        self.nb_links = self.connections.shape[0]\n",
    "        self.__adj_matrix = create_adj_line_graph(self.connections)\n",
    "        self.__mfd_set_up = False\n",
    "\n",
    "    def set_up_mfd(self, v_max, x_max, c):\n",
    "        \"\"\"\n",
    "        Set up macroscopic flow diagram to get travel time.\n",
    "        \"\"\"\n",
    "        if not (self.is_valid_flow(x_max) & self.is_valid_flow(x_max) & self.is_valid_flow(x_max)):\n",
    "            print(\"Incorrect vectors to set up to MFD\")\n",
    "            pass\n",
    "        self.v_max = v_max\n",
    "        self.x_max = x_max\n",
    "        self.c = c\n",
    "        self.__mfd_set_up = True\n",
    "\n",
    "    def mfd_aux(self,x, v_max, x_max, c):\n",
    "        if x == 0:\n",
    "            return v_max\n",
    "        if x >= x_max:\n",
    "            return 0\n",
    "        v = v_max*(1-np.exp((c/v_max) * (1-x_max/x)))\n",
    "        return v\n",
    "    \n",
    "    def mfd(self,x, v_max, x_max, c):\n",
    "        return x * self.mfd_aux(x, v_max, x_max, c)\n",
    "    \n",
    "    def update_matrix_from_with_mfd(self, mfd_v, P, des):\n",
    "        \"\"\"\n",
    "        Given a stoachatics matrix, change it to take into account travel time on links.\n",
    "        Change this function to implement congestion spill back.\n",
    "        \"\"\"\n",
    "#         if not (self.is_valid_outflow_ratio(mfd_v) and self.is_valid_matrix_with_destination(P, des)):\n",
    "#             print(\"Matrix or vector of travel time are not correct\")\n",
    "#             return -1\n",
    "        matrix = - np.diag(np.ones(self.nb_links))\n",
    "        for i in range(self.nb_links):\n",
    "            matrix[i,:] = (matrix[i,:] + P[i,:]) * mfd_v[i]\n",
    "        return matrix\n",
    "        \n",
    "    def update_flow_from_matrix_one_player(self, x, P, dt, des=-1):\n",
    "        \"\"\"\n",
    "        One step of the flow dynamics given a stochastic matrix and a time step\n",
    "        \"\"\"\n",
    "#         if not self.__mfd_set_up:\n",
    "#             print(\"Please use set up MFD function before running the experiment\")\n",
    "#             return\n",
    "#         if not self.is_valid_flow(x):\n",
    "#             print(\"Flow vector x does not seems correctly defined\")\n",
    "#             return\n",
    "#         if not self.is_valid_matrix_with_destination(P, des):\n",
    "#             print(\"P does not seems to be a correct control matrix\")\n",
    "#             print(P)\n",
    "#             return\n",
    "        mfd_v = np.array([self.mfd_aux(x[i], self.v_max[i], self.x_max[i], self.c[i]) for i in range(self.nb_links)])\n",
    "        matrix = self.update_matrix_from_with_mfd(mfd_v, P, des)\n",
    "        x_t_1 = x + matrix.T @ x * dt\n",
    "        return x_t_1\n",
    "        \n",
    "    def simulation_one_player(self, x0, nb_iteration, dt, controller, destination):\n",
    "        \"\"\"\n",
    "        Simulate flow dynamics given a controller function that gives a stochastic matrix as a function of the flow allocation\n",
    "        \"\"\"\n",
    "        x = x0\n",
    "        # saving the results\n",
    "        f = np.zeros((nb_iteration+1, g.nb_links))\n",
    "        for t in range(nb_iteration):\n",
    "            f[t] = x\n",
    "            x = self.update_flow_from_matrix_one_player(x, controller(self, x, t), dt, destination)\n",
    "        f[nb_iteration] = x\n",
    "        return f\n",
    "        \n",
    "    def get_adj_matrix(self):\n",
    "        \"\"\"\n",
    "        Return the adjency matrix of the line graph.\n",
    "        \"\"\"\n",
    "        return self.__adj_matrix.copy()\n",
    "        \n",
    "    def get_mean_travel_time(self, x):\n",
    "        \"\"\"\n",
    "        Give meanlife travel time on a link using the MFD\n",
    "        \"\"\"\n",
    "        if not self.__mfd_set_up:\n",
    "            print(\"Please use set up MFD function before running the experiment\")\n",
    "            return\n",
    "        tt = np.zeros(self.nb_links)\n",
    "        for i in range(self.nb_links):\n",
    "            mfd_tmp = self.mfd_aux(x[i], self.v_max[i], self.x_max[i], self.c[i])\n",
    "            if mfd_tmp == 0:\n",
    "                tt[i] = 10**6\n",
    "            else:\n",
    "                tt[i] = 1/mfd_tmp\n",
    "        return tt\n",
    "        \n",
    "    def get_weighted_matrix_aux(self, tt):\n",
    "        \"\"\"\n",
    "        Give weighted_matrix given travel time on links\n",
    "        \"\"\"\n",
    "        if not self.is_valid_flow(tt):\n",
    "            print(\"Argument not valid, tt is not a vector of travel time\")\n",
    "            return\n",
    "        matrix = g.get_adj_matrix()\n",
    "        indices = np.nonzero(matrix)\n",
    "        for i in range(len(indices[0])):\n",
    "            j, k = indices[0][i], indices[1][i]\n",
    "            matrix[j,k] = tt[k]\n",
    "        return matrix\n",
    "    \n",
    "    def get_weighted_matrix(self, x):\n",
    "        \"\"\"\n",
    "        Give weighted_matrix given flow on links\n",
    "        \"\"\"\n",
    "        tt = self.get_mean_travel_time(x)\n",
    "        return self.get_weighted_matrix_aux(tt)\n",
    "    \n",
    "    def plot_network(self):\n",
    "        \"\"\"\n",
    "        Plot the network\n",
    "        \"\"\"\n",
    "        %matplotlib inline\n",
    "        links = np.zeros((self.nb_links, 4))\n",
    "        for i in range(self.nb_links):\n",
    "            links[i,:2] = self.graph[self.connections[i,0]][\"location\"]\n",
    "            links[i,2:] = self.graph[self.connections[i,1]][\"location\"]\n",
    "    \n",
    "        plt.quiver(links[:, 0], links[:, 1], links[:, 2]-links[:, 0], links[:, 3]-links[:, 1], color=\"b\", angles='xy', scale_units='xy', scale=1)\n",
    "        plt.xlim([np.min(links[:, [0,2]])-0.5, np.max(links[:, [0,2]]) + 0.5])\n",
    "        plt.ylim([np.min(links[:, [1,3]])-0.5, np.max(links[:, [1,3]]) + 0.5])\n",
    "        plt.show()\n",
    "        \n",
    "    def plot_mfd(self, i, fs = 10):\n",
    "        \"\"\"\n",
    "        Plot MFD for one link\n",
    "        \"\"\"\n",
    "        %matplotlib inline\n",
    "        if not isinstance(i, int):\n",
    "            print(\"i should be an integer\")\n",
    "        if i>=self.nb_links or i<0:\n",
    "            print(\"i should be in [0,\" + str(self.nb_links-1) + \"]\")\n",
    "        values = np.arange(0, self.x_max[i], self.x_max[i]/100.)\n",
    "        \n",
    "        # change mfd_aux to mfd to get the mfd plot\n",
    "        plt.plot(values, [self.mfd_aux(j, self.v_max[i], self.x_max[i], self.c[i]) for j in values], label=\"MFD of link \" + str(i+1))\n",
    "        plt.ylabel(\"Ratio of vehicle exiting in 1 unit of time\", fontsize=fs)\n",
    "        plt.xlabel(\"Number of vehicle on the link\", fontsize=fs)\n",
    "        plt.legend()\n",
    "        plt.show()\n",
    "    \n",
    "    def plot_flow(self, x, fs = 10):\n",
    "        \"\"\"\n",
    "        Plot flow results over time\n",
    "        \"\"\"\n",
    "        %matplotlib inline\n",
    "        if not isinstance(x, np.ndarray):\n",
    "            print(\"Argument is not numpy array\")\n",
    "            return\n",
    "        if not isinstance(x.shape,  tuple):\n",
    "            print(\"Argument has not the correct shape\")\n",
    "            return\n",
    "        n,m = x.shape\n",
    "        if m!= self.nb_links:\n",
    "            print(\"Shape should be (...,\" + str(self.nb_links) + \"); it is \" + str((n,m)))\n",
    "            return\n",
    "        for i in range(self.nb_links):\n",
    "            plt.plot(x[:,i], label=\"flow on link \" + str(i+1))\n",
    "        plt.xlabel(\"Iteration\", fontsize=fs)\n",
    "        plt.ylabel(\"Link flow\", fontsize=fs)\n",
    "        plt.title(\"Link flow as a function of time\", fontsize=fs)\n",
    "        plt.legend(fontsize=fs)\n",
    "        plt.show()\n",
    "\n",
    "    def is_valid_flow(self, x):\n",
    "        \"\"\"\n",
    "        Test that a flow is valid: numpy array with int positive values\n",
    "        \"\"\"\n",
    "        if not isinstance(x, np.ndarray):\n",
    "            return False\n",
    "        return (x.size == self.nb_links) & (x >= 0).all()\n",
    "    \n",
    "    def is_valid_matrix(self, P):\n",
    "        \"\"\"\n",
    "        Test that P is a valid stochatisc matrix\n",
    "        \"\"\"\n",
    "        # P should be an array\n",
    "        if not isinstance(P, np.ndarray):\n",
    "            return False\n",
    "        \n",
    "        # P should has the same size as the graph\n",
    "        if not P.shape == self.__adj_matrix.shape:\n",
    "            return False\n",
    "        \n",
    "        # P should has 0 where adj_matrix has 0\n",
    "        if not np.all(P[self.__adj_matrix == 0]==0):\n",
    "            return False\n",
    "        \n",
    "        # element of P should be >=0\n",
    "        if not np.all(P>=0):\n",
    "            return False\n",
    "        return True\n",
    "    \n",
    "    def is_valid_matrix_with_destination(self, P, destination):\n",
    "        if not self.is_valid_matrix(P):\n",
    "            return False\n",
    "        for i in range(self.nb_links):\n",
    "            if not i in destination:\n",
    "                if np.sum(P[i,:])!=1:\n",
    "                    return False\n",
    "        return True\n",
    "    \n",
    "    def is_valid_outflow_ratio(self, x):\n",
    "        if not isinstance(x, np.ndarray):\n",
    "            return False\n",
    "        return (x.size == self.nb_links) & (x >= 0).all() & (x <= 1).all()\n",
    "        "
   ]
  },
  {
   "cell_type": "markdown",
   "metadata": {},
   "source": [
    "# 2. Implementing simulation"
   ]
  },
  {
   "cell_type": "markdown",
   "metadata": {},
   "source": [
    "## 2.1. Creating the network use for the experiment"
   ]
  },
  {
   "cell_type": "code",
   "execution_count": 3,
   "metadata": {},
   "outputs": [],
   "source": [
    "# Maybe we can set up the MFD in the dictionary\n",
    "# creating the graph\n",
    "graph_dict = {0: {\"connection\": {1}, \"location\": [0, 0]},\n",
    "              1: {\"connection\": {2, 3}, \"location\": [1, 0]},\n",
    "              2: {\"connection\": {3, 4}, \"location\": [2, 1]},\n",
    "              3: {\"connection\": {4}, \"location\": [2, -1]},\n",
    "              4: {\"connection\": {5}, \"location\": [3, 0]},\n",
    "              5: {\"connection\": {}, \"location\": [4, 0]}}\n",
    "g = network(graph_dict)"
   ]
  },
  {
   "cell_type": "code",
   "execution_count": 4,
   "metadata": {},
   "outputs": [
    {
     "data": {
      "image/png": "[encoded data removed]",
      "text/plain": [
       "<Figure size 432x288 with 1 Axes>"
      ]
     },
     "metadata": {
      "needs_background": "light"
     },
     "output_type": "display_data"
    }
   ],
   "source": [
    "g.plot_network()\n",
    "# print(g.connections)"
   ]
  },
  {
   "cell_type": "markdown",
   "metadata": {},
   "source": [
    "## 2.2. Creating controllers"
   ]
  },
  {
   "cell_type": "markdown",
   "metadata": {},
   "source": [
    "### 0. Cost and matrix creation functions for this specific network"
   ]
  },
  {
   "cell_type": "code",
   "execution_count": 5,
   "metadata": {},
   "outputs": [],
   "source": [
    "def get_cost(f):\n",
    "    return np.sum([np.sum(f[i,1:6]) for i in range(f.shape[0])])\n",
    "\n",
    "# create a dummy controller\n",
    "def matrix_from_u1_u2(g, u1, u2):    \n",
    "    matrix = g.get_adj_matrix()\n",
    "    matrix[0][1] = 1 - u1\n",
    "    matrix[0][2] = u1\n",
    "    matrix[1][3] = 1 - u2\n",
    "    matrix[1][4] = u2\n",
    "    return matrix"
   ]
  },
  {
   "cell_type": "markdown",
   "metadata": {},
   "source": [
    "### A. Brute force controller"
   ]
  },
  {
   "cell_type": "code",
   "execution_count": 6,
   "metadata": {},
   "outputs": [],
   "source": [
    "def get_brute_force_results(x0, nb_iteration, time_step, cost_function, matrix_constructor, nb_points_mesh, debug = False):\n",
    "    scores_brute_force_list = np.zeros([nb_points_mesh+1, nb_points_mesh+1])\n",
    "    for i in range(nb_points_mesh+1):\n",
    "        u1 = i/nb_points_mesh\n",
    "        for j in range(nb_points_mesh+1):\n",
    "            u2 = j/nb_points_mesh\n",
    "            f = g.simulation_one_player(x0, nb_iteration, time_step, lambda gvar, xvar, tvar: matrix_constructor(gvar, u1, u2), [dest])\n",
    "            scores_brute_force_list[i][j] = cost_function(f)\n",
    "        if debug and i % (nb_points_mesh/10) == 0:\n",
    "            print(str(i*100 / nb_points_mesh) + \" % done\")\n",
    "\n",
    "    # u_brute_force are global variables corresponding to optimal control found with brute force\n",
    "    u1_brute_force_tmp, u2_brute_force_tmp = np.unravel_index(scores_brute_force_list.argmin(), scores_brute_force_list.shape)\n",
    "    u_brute_force = [i / nb_points_mesh for i in [u1_brute_force_tmp, u2_brute_force_tmp]]\n",
    "\n",
    "    # f_brute_force and score_brute_force are global variables associated to optimal control found with brute force\n",
    "    f_brute_force = g.simulation_one_player(x0, nb_iteration, time_step, lambda gvar, xvar, tvar: matrix_constructor(gvar, u_brute_force[0], u_brute_force[1]), [dest])\n",
    "    score_brute_force = get_cost(f_brute_force)\n",
    "\n",
    "    return u_brute_force, f_brute_force, score_brute_force"
   ]
  },
  {
   "cell_type": "markdown",
   "metadata": {},
   "source": [
    "### B. Greedy controller 1\n",
    "\n",
    "Greedy controller 1 put everyone one the instantenous travel time at every time step"
   ]
  },
  {
   "cell_type": "code",
   "execution_count": 7,
   "metadata": {},
   "outputs": [],
   "source": [
    "import scipy.sparse as scs\n",
    "\n",
    "# x0, nb_iteration, time_step, origin and dest should be defined\n",
    "# function get_cost should have been defined\n",
    "\n",
    "def greedy_controller_1_aux(g, x, ori, des):\n",
    "    def update_matrix_from_predecessor_matrix(G_sparse, pred, o, d, matrix):\n",
    "        tree = scs.csgraph.reconstruct_path(csgraph=G_sparse, predecessors=pred[o], directed=True)\n",
    "        t = np.nonzero(tree)\n",
    "        i = d\n",
    "        while i != o:\n",
    "            j = np.argwhere(t[1]==i)[0][0]\n",
    "            i = t[0][j]\n",
    "            matrix[t[0][j], t[1][j]] = 1\n",
    "        return matrix\n",
    "    \n",
    "    # creating adjacency sparse matrix with link travel time for weight\n",
    "    G_sparse = scs.csr_matrix(g.get_weighted_matrix(x))\n",
    "    # running shortest path algorithm on it\n",
    "    cost, pred = scs.csgraph.shortest_path(G_sparse, method='auto', directed=True, return_predecessors=True, unweighted=False, overwrite=False)\n",
    "\n",
    "    # creating the control matrix from the shortest_path results -> here we might optimize the code\n",
    "    matrix = update_matrix_from_predecessor_matrix(G_sparse, pred, ori, des, np.zeros((g.nb_links,g.nb_links)))\n",
    "    \n",
    "    indices = np.argwhere(np.sum(matrix, axis=1)==0)[:,0]\n",
    "    for k in indices:\n",
    "        if k == 1:\n",
    "            matrix = update_matrix_from_predecessor_matrix(G_sparse, pred, k, des, matrix)\n",
    "        else:\n",
    "            matrix[k] = g.get_adj_matrix()[k]\n",
    "    return matrix\n",
    "\n"
   ]
  },
  {
   "cell_type": "markdown",
   "metadata": {},
   "source": [
    "### B.bis. Greedy controller 2  --> To do\n",
    "\n",
    "Greedy controller 2 put everyone one path that minimizes the instantenous travel time + marginal cost at every time step"
   ]
  },
  {
   "cell_type": "code",
   "execution_count": 8,
   "metadata": {},
   "outputs": [],
   "source": [
    "## TO DO"
   ]
  },
  {
   "cell_type": "markdown",
   "metadata": {},
   "source": [
    "### C. Monte Carlo controller"
   ]
  },
  {
   "cell_type": "code",
   "execution_count": 9,
   "metadata": {},
   "outputs": [],
   "source": [
    "def monte_carlo_controller_aux(gv, x_init, nb_iter, tstep, des, cost_function, nb_trial, save_test=False, return_score=False):\n",
    "    # nb_trial should be a strictly positive integer\n",
    "    min_cost = np.inf\n",
    "    \n",
    "    if save_test:\n",
    "        u_tested = np.zeros((nb_trial, 2))\n",
    "    \n",
    "    for i in range(nb_trial):\n",
    "        u1 = np.random.random()\n",
    "        u2 = np.random.random()\n",
    "        if save_test:\n",
    "            u_tested[i] = [u1, u2]\n",
    "        f_test = gv.simulation_one_player(x_init, nb_iter, tstep, lambda gvar, xvar, tvar: matrix_from_u1_u2(gvar, u1, u2), [des])\n",
    "        run_cost = cost_function(f_test)\n",
    "        if run_cost < min_cost:\n",
    "            u_monte_carlo_tmp = [u1, u2]\n",
    "            min_cost = run_cost\n",
    "\n",
    "    if save_test:\n",
    "        return u_tested, u_monte_carlo_tmp\n",
    "    if return_score:\n",
    "        return u_monte_carlo_tmp, min_cost\n",
    "    return matrix_from_u1_u2(gv, u_monte_carlo_tmp[0], u_monte_carlo_tmp[1])"
   ]
  },
  {
   "cell_type": "markdown",
   "metadata": {},
   "source": [
    "## 2.3. Creating and doing the simulations"
   ]
  },
  {
   "cell_type": "markdown",
   "metadata": {},
   "source": [
    "### A. Setting some global variables for the experiment"
   ]
  },
  {
   "cell_type": "code",
   "execution_count": 10,
   "metadata": {},
   "outputs": [],
   "source": [
    "# Cell defining global variables for the network and the simulations\n",
    "origin = 0\n",
    "dest = g.nb_links-1\n",
    "\n",
    "# Setting up the simulation\n",
    "x0 = np.zeros(g.nb_links)\n",
    "x0[origin] = 50\n",
    "time_step = 0.1\n",
    "nb_iteration = (int) (30/time_step)\n"
   ]
  },
  {
   "cell_type": "markdown",
   "metadata": {},
   "source": [
    "### B. Setting the Macroscopic Flow Diagram of the network links"
   ]
  },
  {
   "cell_type": "code",
   "execution_count": 11,
   "metadata": {},
   "outputs": [],
   "source": [
    "# Creating the MFD\n",
    "vmax = 0.3 # 1/number of iteration to exit the link under free flow\n",
    "xmax = 100 # max flow rate\n",
    "c = 0.1\n",
    "\n",
    "vmax_array = vmax * np.ones(g.nb_links)\n",
    "xmax_array = xmax * np.ones(g.nb_links)\n",
    "c_array = c * np.ones(g.nb_links)\n",
    "\n",
    "# all vehicle should exist the network at the time 0\n",
    "vmax_array[origin] = 1\n",
    "xmax_array[origin] = 1000\n",
    "c_array[origin] = 1000\n",
    "c_array[dest] = 0\n",
    "\n",
    "# changing the parameters to see the results --> This is specific to the network considered\n",
    "vmax_array[2] = 0.12\n",
    "vmax_array[4] = 0.15\n",
    "\n",
    "g.set_up_mfd(vmax_array, xmax_array, c_array)"
   ]
  },
  {
   "cell_type": "code",
   "execution_count": 12,
   "metadata": {},
   "outputs": [
    {
     "data": {
      "image/png": "[encoded data removed]",
      "text/plain": [
       "<Figure size 432x288 with 1 Axes>"
      ]
     },
     "metadata": {
      "needs_background": "light"
     },
     "output_type": "display_data"
    },
    {
     "data": {
      "image/png": "[encoded data removed]",
      "text/plain": [
       "<Figure size 432x288 with 1 Axes>"
      ]
     },
     "metadata": {
      "needs_background": "light"
     },
     "output_type": "display_data"
    },
    {
     "data": {
      "image/png": "[encoded data removed]",
      "text/plain": [
       "<Figure size 432x288 with 1 Axes>"
      ]
     },
     "metadata": {
      "needs_background": "light"
     },
     "output_type": "display_data"
    },
    {
     "data": {
      "image/png": "[encoded data removed]",
      "text/plain": [
       "<Figure size 432x288 with 1 Axes>"
      ]
     },
     "metadata": {
      "needs_background": "light"
     },
     "output_type": "display_data"
    },
    {
     "data": {
      "image/png": "[encoded data removed]",
      "text/plain": [
       "<Figure size 432x288 with 1 Axes>"
      ]
     },
     "metadata": {
      "needs_background": "light"
     },
     "output_type": "display_data"
    }
   ],
   "source": [
    "fonts = 10\n",
    "g.plot_mfd(origin, fs = fonts)\n",
    "g.plot_mfd(5, fs = fonts)\n",
    "g.plot_mfd(2, fs = fonts)\n",
    "g.plot_mfd(4, fs = fonts)\n",
    "g.plot_mfd(dest, fs = fonts)"
   ]
  },
  {
   "cell_type": "markdown",
   "metadata": {},
   "source": [
    "### C. Implementation of the controllers"
   ]
  },
  {
   "cell_type": "markdown",
   "metadata": {},
   "source": [
    "#### Setting the parameters"
   ]
  },
  {
   "cell_type": "code",
   "execution_count": 13,
   "metadata": {},
   "outputs": [],
   "source": [
    "# Brute force --> set the number of mesh points\n",
    "nb_points_mesh = 50\n",
    "\n",
    "# Greedy has no parameters\n",
    "\n",
    "# Monte Carlo constant: set the number of trial\n",
    "nb_trial_mc_constant = 50\n",
    "\n",
    "# MPC Monte Carlo: set the number of trial and the frequency of trial\n",
    "save_results_mpc = True\n",
    "nb_trial_mc_mpc = 20\n",
    "freq_redo_mc_mpc = 5"
   ]
  },
  {
   "cell_type": "markdown",
   "metadata": {},
   "source": [
    "#### Brute force"
   ]
  },
  {
   "cell_type": "code",
   "execution_count": null,
   "metadata": {},
   "outputs": [],
   "source": [
    "# x0, nb_iteration, time_step and dest should be defined\n",
    "# functions get_cost and matrix_from_u1_u2 should have been defined\n",
    "u_brute_force, f_brute_force, score_brute_force = get_brute_force_results(x0, nb_iteration, time_step, get_cost, matrix_from_u1_u2, nb_points_mesh)\n"
   ]
  },
  {
   "cell_type": "markdown",
   "metadata": {},
   "source": [
    "#### Greedy 1"
   ]
  },
  {
   "cell_type": "code",
   "execution_count": null,
   "metadata": {},
   "outputs": [],
   "source": [
    "\n",
    "# f_greedy_1, score_greedy_1 and u_greedy_list are global variable\n",
    "greedy_controller_1 = lambda gvar, xvar, tvar: greedy_controller_1_aux(gvar, xvar, origin, dest)\n",
    "\n",
    "f_greedy_1 = g.simulation_one_player(x0, nb_iteration, time_step, greedy_controller_1, [dest])\n",
    "score_greedy_1 = get_cost(f_greedy_1)\n",
    "\n",
    "u_greedy_list = np.zeros((nb_iteration,2))\n",
    "for i in range(nb_iteration):\n",
    "    matrix = greedy_controller_1_aux(g, f_greedy_1[i, :], origin, dest)\n",
    "    u_greedy_list[i] = [matrix[0][2], matrix[1][4]]\n"
   ]
  },
  {
   "cell_type": "markdown",
   "metadata": {},
   "source": [
    "#### Greedy controller 2\n",
    "\n",
    "Greedy controller 2 put everyone one path that minimizes the instantenous travel time + marginal cost at every time step"
   ]
  },
  {
   "cell_type": "code",
   "execution_count": null,
   "metadata": {},
   "outputs": [],
   "source": [
    "## TO DO"
   ]
  },
  {
   "cell_type": "markdown",
   "metadata": {},
   "source": [
    "## Monte Carlo constant controller\n",
    "Monte Carlo constant controller tries randomly some control and see which one works the best."
   ]
  },
  {
   "cell_type": "code",
   "execution_count": null,
   "metadata": {},
   "outputs": [],
   "source": [
    "# Monte Carlo with constant controller\n",
    "\n",
    "# x0, nb_iteration, time_step, origin and dest should be defined\n",
    "# functions get_cost and matrix_from_u1_u2 should have been defined\n",
    "\n",
    "# Monte Carlo controller should be changed if there is a final cost\n",
    "\n",
    "# u_monte_carlo_constant are global variables corresponding to constant optimal control found with monte carlo\n",
    "u_tested, u_monte_carlo_constant = monte_carlo_controller_aux(g, x0, nb_iteration, time_step, dest, get_cost, nb_trial_mc_constant, save_test=True)\n",
    "\n",
    "monte_carlo_constant_controller = lambda gvar, xvar, tvar: matrix_from_u1_u2(gvar, u_monte_carlo_constant[0], u_monte_carlo_constant[1])\n",
    "\n",
    "# f_brute_force and score_brute_force are global variables associated to optimal control found with brute force\n",
    "f_monte_carlo_constant = g.simulation_one_player(x0, nb_iteration, time_step, monte_carlo_constant_controller, [dest])\n",
    "score_monte_carlo_constant = get_cost(f_monte_carlo_constant)\n"
   ]
  },
  {
   "cell_type": "markdown",
   "metadata": {},
   "source": [
    "## Monte Carlo MPC controller\n",
    "\n",
    "Monte Carlo MPC controller tries different inputs at every time step.\n",
    "Instead of doing nb_iter iterations, the new code does: $$nb\\_iter + nb\\_trial\\_per\\_iteration*(\\sum_{i=0}^{nb\\_iter} i) = nb\\_iter \\Big(1 + \\frac{1}{2} (nb\\_iter + 1) * nb\\_trial\\_per\\_iteration\\Big)$$\n",
    "\n",
    "This is computationally expensive. To reduce the amount of work to do, one can:\n",
    "- not do the entire simulation during the MPC\n",
    "- reduce the nb_trial_per_iteration by testing less controls\n",
    "- reduce the nb_trial_per_iteration by doing MPC only 5 iterations\n",
    "- reduce the nb_trial_per_iteration by memoizing good controller, and ony testing the good controllers randomly\n",
    "\n"
   ]
  },
  {
   "cell_type": "code",
   "execution_count": null,
   "metadata": {},
   "outputs": [],
   "source": [
    "# MPC\n",
    "\n",
    "# Here at least u1_previous, u2_previous are global\n",
    "# If results are saved save_results should also be global\n",
    "\n",
    "\n",
    "def mpc_monte_carlo_controller(gv, x, t, nb_iter, tstep, des, cost_function, nb_trial, freq_redo, save_results=False):\n",
    "    # previous controller are global variable\n",
    "    global u1_previous, u2_previous\n",
    "    \n",
    "    if t == 0:\n",
    "        # if t == 0 there is no previous controller\n",
    "        min_cost_previous = np.inf\n",
    "    else:\n",
    "        # if this is not the time to re-do the MPC, return previous control\n",
    "        if t % (nb_iter/freq_redo) != 0:\n",
    "            if save_results:\n",
    "                u_monte_carlo_mpc_list[t] = [u1_previous, u2_previous]\n",
    "            return matrix_from_u1_u2(gv, u1_previous, u2_previous)\n",
    "        # else find cost due to previous control\n",
    "        u_monte_carlo_previous = [u1_previous, u2_previous]\n",
    "        f = g.simulation_one_player(x, nb_iter-t, tstep, lambda gvar, xvar, tvar: matrix_from_u1_u2(gvar, u_monte_carlo_previous[0], u_monte_carlo_previous[1]), [des])\n",
    "        min_cost_previous = get_cost(f)\n",
    "    \n",
    "    # try random control\n",
    "    u_monte_carlo_tmp, min_cost_random =  monte_carlo_controller_aux(gv, x, nb_iter-t, tstep, des, cost_function, nb_trial, return_score=True)\n",
    "    \n",
    "    # if the new cost is better, than use the new control found randomly and update previous control\n",
    "    if min_cost_random < min_cost_previous:\n",
    "        u_tmp = u_monte_carlo_tmp\n",
    "        [u1_previous, u2_previous] = u_tmp\n",
    "    # otherwise return the previous control\n",
    "    else:\n",
    "        u_tmp = u_monte_carlo_previous\n",
    "        \n",
    "    if save_results:\n",
    "        u_monte_carlo_mpc_list[t] = u_tmp\n",
    "    return matrix_from_u1_u2(gv, u_tmp[0], u_tmp[1])\n",
    "\n",
    "\n",
    "if save_results_mpc:\n",
    "    u_monte_carlo_mpc_list = np.zeros((nb_iteration, 2))\n",
    "    \n",
    "controller_mpc = lambda gvar, xvar, tvar: mpc_monte_carlo_controller(gvar, xvar, tvar, nb_iteration, time_step, dest, get_cost, nb_trial_mc_mpc, freq_redo_mc_mpc, save_results=save_results_mpc)\n",
    "\n",
    "f_monte_carlo_mpc = g.simulation_one_player(x0, nb_iteration, time_step, controller_mpc, [dest])\n",
    "score_monte_carlo_mpc = get_cost(f_monte_carlo_mpc)\n"
   ]
  },
  {
   "cell_type": "markdown",
   "metadata": {},
   "source": [
    "## Showing results"
   ]
  },
  {
   "cell_type": "markdown",
   "metadata": {},
   "source": [
    "### 1. Brut force and Monte Carlo constant"
   ]
  },
  {
   "cell_type": "code",
   "execution_count": null,
   "metadata": {},
   "outputs": [],
   "source": [
    "plt.rcParams[\"figure.figsize\"] = (7,7)\n",
    "plt.rcParams[\"legend.loc\"] = 'lower right'\n",
    "\n",
    "plt.plot(u_brute_force[1], u_brute_force[0], \"g*\",  markersize=20, label=\"Brute force optimal control\")\n",
    "plt.imshow(scores_brute_force_list, cmap='RdYlGn', interpolation='none', extent=[0,1,1,0])\n",
    "plt.ylabel(\"$u_1$\", fontsize=20)\n",
    "plt.xlabel(\"$u_2$\", fontsize=20)\n",
    "plt.title(\"Cost as a function of constant input\", fontsize=18)\n",
    "plt.legend(fontsize=12)\n",
    "plt.colorbar()\n",
    "plt.show()"
   ]
  },
  {
   "cell_type": "code",
   "execution_count": null,
   "metadata": {},
   "outputs": [],
   "source": [
    "plt.rcParams[\"figure.figsize\"] = (7,7)\n",
    "plt.rcParams[\"legend.loc\"] = 'lower right'\n",
    "\n",
    "plt.plot(u_tested[:,1], u_tested[:,0], 'o', label = \"Control tested in Monte Carlo\")\n",
    "plt.plot(u_monte_carlo_constant[1], u_monte_carlo_constant[0], 'b*',  markersize=20, label=\"Constant Monte Carlo optimal control\")\n",
    "plt.plot(u_brute_force[1], u_brute_force[0], \"g*\",  markersize=20, label=\"Brute force optimal control\")\n",
    "plt.imshow(scores_brute_force_list, cmap='RdYlGn', interpolation='none', extent=[0,1,1,0])\n",
    "plt.ylabel(\"$u_1$\", fontsize=20)\n",
    "plt.xlabel(\"$u_2$\", fontsize=20)\n",
    "plt.title(\"Cost as a function of constant input\", fontsize=18)\n",
    "plt.legend(fontsize=12)\n",
    "plt.colorbar()\n",
    "plt.show()"
   ]
  },
  {
   "cell_type": "code",
   "execution_count": null,
   "metadata": {},
   "outputs": [],
   "source": [
    "# setting plt paramaters\n",
    "plt.rcParams[\"figure.figsize\"] = (5,5)\n",
    "plt.rcParams[\"legend.loc\"] = 'best'"
   ]
  },
  {
   "cell_type": "markdown",
   "metadata": {},
   "source": [
    "### 2. Controllers"
   ]
  },
  {
   "cell_type": "code",
   "execution_count": null,
   "metadata": {},
   "outputs": [],
   "source": [
    "# nb_iteration should be defined\n",
    "nb_controls = 2\n",
    "\n",
    "\n",
    "def plot_control(u_list, control_name, nb_c):\n",
    "    for i in range(nb_c):\n",
    "        plt.plot(u_list[:,i], label=\"u\" + str(i+1) + \" \" + control_name)\n",
    "    plt.xlabel(\"Iteration\", fontsize=14)\n",
    "    plt.ylabel(\"Value of the control\", fontsize=14)\n",
    "    plt.ylim([-0.1,1.1])\n",
    "    plt.title(control_name + \" control as a function of the time\", fontsize=18)\n",
    "    plt.legend(fontsize=14)\n",
    "    plt.show()\n",
    "\n",
    "print(\"----- Brute force constant -----\")\n",
    "print(\"Cost: \" + str(score_brute_force))\n",
    "u_brute_force_list = np.ones((nb_iteration, nb_controls))\n",
    "for i in range(nb_controls):\n",
    "    u_brute_force_list[:,i] = u_brute_force_list[:,i]*u_brute_force[i]\n",
    "plot_control(u_brute_force_list, \"Brute force\", nb_controls)\n",
    "\n",
    "\n",
    "print(\"----- Greedy 1 -----\")\n",
    "print(\"Cost: \" + str(score_greedy_1))\n",
    "plot_control(u_greedy_list, \"Greedy 1\", nb_controls)\n",
    "\n",
    "\n",
    "# print(\"----- Greedy 2 -----\")\n",
    "\n",
    "print(\"----- Monte Carlo constant -----\")\n",
    "print(\"Cost: \" + str(score_monte_carlo_constant))\n",
    "print(\"Nb trial: \" + str(nb_trial_mc_constant))\n",
    "u_monte_carlo_constant_list = np.ones((nb_iteration, nb_controls))\n",
    "for i in range(nb_controls):\n",
    "    u_monte_carlo_constant_list[:,i] = u_monte_carlo_constant_list[:,i]*u_monte_carlo_constant[i]\n",
    "plot_control(u_monte_carlo_constant_list, \"Monte Carlo constant\", nb_controls)\n",
    "\n",
    "print(\"----- Monte Carlo MPC -----\")\n",
    "print(\"Cost: \" + str(score_monte_carlo_mpc))\n",
    "print(\"Nb trial: \" + str(nb_trial_mc_mpc))\n",
    "print(\"MPC every \" + str(freq_redo_mc_mpc) + \" time step\")\n",
    "plot_control(u_monte_carlo_mpc_list, \"Monte Carlo MPC\", nb_controls)"
   ]
  },
  {
   "cell_type": "markdown",
   "metadata": {},
   "source": [
    "### 3. Flows"
   ]
  },
  {
   "cell_type": "code",
   "execution_count": null,
   "metadata": {},
   "outputs": [],
   "source": [
    "print(\"----- Brute force constant -----\")\n",
    "print(\"Cost: \" + str(score_brute_force))\n",
    "g.plot_flow(f_brute_force)\n",
    "\n",
    "\n",
    "print(\"----- Greedy 1 -----\")\n",
    "print(\"Cost: \" + str(score_greedy_1))\n",
    "g.plot_flow(f_greedy_1)\n",
    "\n",
    "\n",
    "# print(\"----- Greedy 2 -----\")\n",
    "\n",
    "print(\"----- Monte Carlo constant -----\")\n",
    "print(\"Cost: \" + str(score_monte_carlo_constant))\n",
    "print(\"Nb trial: \" + str(nb_trial_mc_constant))\n",
    "g.plot_flow(f_monte_carlo_constant)\n",
    "\n",
    "print(\"----- Monte Carlo MPC -----\")\n",
    "print(\"Cost: \" + str(score_monte_carlo_mpc))\n",
    "print(\"Nb trial: \" + str(nb_trial_mc_mpc))\n",
    "print(\"MPC every \" + str(freq_redo_mc_mpc) + \" time step\")\n",
    "g.plot_flow(f_monte_carlo_mpc)\n"
   ]
  },
  {
   "cell_type": "markdown",
   "metadata": {},
   "source": [
    "### 4. Travel time"
   ]
  },
  {
   "cell_type": "code",
   "execution_count": null,
   "metadata": {},
   "outputs": [],
   "source": [
    "def get_travel_time(g, x):\n",
    "    travel_time = np.zeros((x.shape[0], 3))\n",
    "    for i in range(x.shape[0]):\n",
    "        tt = g.get_mean_travel_time(x[i, :])\n",
    "        travel_time[i] = [tt[1] + tt[3] + tt[5], tt[1] + tt[4], tt[2] + tt[5]]\n",
    "    return travel_time\n",
    "\n",
    "def plot_travel_time(g, f, control_name):\n",
    "    travel_time = get_travel_time(g, f)\n",
    "    for i in range(travel_time.shape[1]):\n",
    "        plt.plot(travel_time[:,i], label=\"Travel time path \" + str(i))\n",
    "    plt.xlabel(\"Iteration\", fontsize=14)\n",
    "    plt.ylabel(\"Travel time\", fontsize=14)\n",
    "    plt.title(\"Travel time as a function of the time with \" + control_name, fontsize=18)\n",
    "    plt.legend(fontsize=14)\n",
    "    plt.show()\n",
    "    \n",
    "print(\"----- Brute force constant -----\")\n",
    "print(\"Cost: \" + str(score_brute_force))\n",
    "plot_travel_time(g, f_brute_force, \"Brute force\")\n",
    "\n",
    "\n",
    "print(\"----- Greedy 1 -----\")\n",
    "print(\"Cost: \" + str(score_greedy_1))\n",
    "plot_travel_time(g, f_greedy_1, \"Greedy 1\")\n",
    "\n",
    "# print(\"----- Greedy 2 -----\")\n",
    "\n",
    "print(\"----- Monte Carlo constant -----\")\n",
    "print(\"Cost: \" + str(score_monte_carlo_constant))\n",
    "print(\"Nb trial: \" + str(nb_trial_mc_constant))\n",
    "plot_travel_time(g, f_monte_carlo_constant, \"Monte Carlo constant\")\n",
    "\n",
    "\n",
    "print(\"----- Monte Carlo MPC -----\")\n",
    "print(\"Cost: \" + str(score_monte_carlo_mpc))\n",
    "print(\"Nb trial: \" + str(nb_trial_mc_mpc))\n",
    "print(\"MPC every \" + str(freq_redo_mc_mpc) + \" time step\")\n",
    "plot_travel_time(g, f_monte_carlo_mpc, \"Monte Carlo MPC\")\n"
   ]
  },
  {
   "cell_type": "markdown",
   "metadata": {},
   "source": [
    "### 5. Comparison"
   ]
  },
  {
   "cell_type": "code",
   "execution_count": null,
   "metadata": {},
   "outputs": [],
   "source": []
  },
  {
   "cell_type": "code",
   "execution_count": null,
   "metadata": {},
   "outputs": [],
   "source": [
    "break"
   ]
  },
  {
   "cell_type": "code",
   "execution_count": null,
   "metadata": {},
   "outputs": [],
   "source": [
    "# showing the simulation\n",
    "%matplotlib notebook\n",
    "# %matplotlib inline\n",
    "import matplotlib.animation as animation\n",
    "\n",
    "f = f_greedy\n",
    "\n",
    "links = np.zeros((g.nb_links, 4))\n",
    "for i in range(g.nb_links):\n",
    "    links[i,:2] = g.graph[g.connections[i,0]][\"location\"]\n",
    "    links[i,2:] = g.graph[g.connections[i,1]][\"location\"]\n",
    "\n",
    "cdict = {'red': (1.0, 0.0, 0.0), 'green': (0.0, 1.0, 0.0)}\n",
    "\n",
    "fig, ax = plt.subplots()\n",
    "ln = []\n",
    "for i in range(g.nb_links):\n",
    "#     print(i)\n",
    "    ln.append(plt.quiver(links[i, 0], links[i, 1], links[i, 2]-links[i, 0], links[i, 3]-links[i, 1], color=\"b\", angles='xy', scale_units='xy', scale=1))\n",
    "#     plt.quiver(links[i, 0], links[i, 1], links[i, 2]-links[i, 0], links[i, 3]-links[i, 1], color=\"b\", angles='xy', scale_units='xy', scale=1)\n",
    "plt.xlim([-0.5, 4.5])\n",
    "plt.ylim([-1.5, 1.5])\n",
    "\n",
    "def init():\n",
    "    return ln,\n",
    "\n",
    "def update(frame):\n",
    "    c = np.array([(1-f[frame]/50)**2 * cdict[\"green\"][i] + (f[frame]/50) * cdict[\"red\"][i] for i in range(3)]).T\n",
    "    for i in range(7):\n",
    "        ln[i].set_color(c[i])\n",
    "    return ln,\n",
    "\n",
    "ani = animation.FuncAnimation(fig, update, frames = 200,\n",
    "                    init_func=init, blit=True)\n",
    "plt.show()\n",
    "\n",
    "# # Set up formatting for the movie files\n",
    "# Writer = animation.writers['ffmpeg']\n",
    "# writer = Writer(fps=5, metadata=dict(artist='Me'), bitrate=600)\n",
    "\n",
    "# ani.save('test_simulation_2.mp4', writer=writer)\n"
   ]
  },
  {
   "cell_type": "code",
   "execution_count": null,
   "metadata": {},
   "outputs": [],
   "source": []
  }
 ],
 "metadata": {
  "kernelspec": {
   "display_name": "Python 3",
   "language": "python",
   "name": "python3"
  },
  "language_info": {
   "codemirror_mode": {
    "name": "ipython",
    "version": 3
   },
   "file_extension": ".py",
   "mimetype": "text/x-python",
   "name": "python",
   "nbconvert_exporter": "python",
   "pygments_lexer": "ipython3",
   "version": "3.7.7"
  }
 },
 "nbformat": 4,
 "nbformat_minor": 4
}
